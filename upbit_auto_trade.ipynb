{
 "cells": [
  {
   "cell_type": "code",
   "execution_count": 6,
   "metadata": {},
   "outputs": [],
   "source": [
    "import pyupbit\n",
    "import time\n",
    "import datetime\n",
    "\n",
    "###### Upbit Api를 가져와서 계좌 잔고 현황 조회하기 ##########\n",
    "f = open(\"upbit.txt\")\n",
    "\n",
    "lines=f.readlines()\n",
    "access = lines[0].strip()        # Api 키 \n",
    "secret = lines[1].strip()       # 시크릿 키\n",
    "\n",
    "f.close()\n",
    "upbit =  pyupbit.Upbit(access, secret)  \n",
    "\n",
    "\n",
    "# xrp limit order buy\n",
    "# pyupbit.get_current_price(\"KRW-XRP\")\n",
    "\n",
    "resp = upbit.buy_limit_order(\"KRW-XRP\", 2010, 1)\n",
    "\n",
    "\n"
   ]
  },
  {
   "cell_type": "code",
   "execution_count": 7,
   "metadata": {},
   "outputs": [
    {
     "name": "stdout",
     "output_type": "stream",
     "text": [
      "현재시간: 2024-12-18 16:36:26.072189 목표가: 157378500.0 현재가: 152550000.0 보유상태:False 동작상태: False\n",
      "현재시간: 2024-12-18 16:36:27.588311 목표가: 157378500.0 현재가: 152550000.0 보유상태:False 동작상태: False\n",
      "현재시간: 2024-12-18 16:36:29.053182 목표가: 157378500.0 현재가: 152550000.0 보유상태:False 동작상태: False\n",
      "현재시간: 2024-12-18 16:36:30.523425 목표가: 157378500.0 현재가: 152550000.0 보유상태:False 동작상태: False\n",
      "현재시간: 2024-12-18 16:36:32.022681 목표가: 157378500.0 현재가: 152550000.0 보유상태:False 동작상태: False\n",
      "현재시간: 2024-12-18 16:36:33.508327 목표가: 157378500.0 현재가: 152554000.0 보유상태:False 동작상태: False\n"
     ]
    },
    {
     "ename": "KeyboardInterrupt",
     "evalue": "",
     "output_type": "error",
     "traceback": [
      "\u001b[1;31m---------------------------------------------------------------------------\u001b[0m",
      "\u001b[1;31mKeyboardInterrupt\u001b[0m                         Traceback (most recent call last)",
      "Cell \u001b[1;32mIn[7], line 71\u001b[0m\n\u001b[0;32m     69\u001b[0m \u001b[38;5;66;03m# 상태 출력\u001b[39;00m\n\u001b[0;32m     70\u001b[0m \u001b[38;5;28mprint\u001b[39m(\u001b[38;5;124mf\u001b[39m\u001b[38;5;124m\"\u001b[39m\u001b[38;5;124m현재시간: \u001b[39m\u001b[38;5;132;01m{\u001b[39;00mnow\u001b[38;5;132;01m}\u001b[39;00m\u001b[38;5;124m 목표가: \u001b[39m\u001b[38;5;132;01m{\u001b[39;00mtarget\u001b[38;5;132;01m}\u001b[39;00m\u001b[38;5;124m 현재가: \u001b[39m\u001b[38;5;132;01m{\u001b[39;00mprice\u001b[38;5;132;01m}\u001b[39;00m\u001b[38;5;124m 보유상태:\u001b[39m\u001b[38;5;132;01m{\u001b[39;00mhold\u001b[38;5;132;01m}\u001b[39;00m\u001b[38;5;124m 동작상태: \u001b[39m\u001b[38;5;132;01m{\u001b[39;00mop_mode\u001b[38;5;132;01m}\u001b[39;00m\u001b[38;5;124m\"\u001b[39m)\n\u001b[1;32m---> 71\u001b[0m time\u001b[38;5;241m.\u001b[39msleep(\u001b[38;5;241m1\u001b[39m)\n",
      "\u001b[1;31mKeyboardInterrupt\u001b[0m: "
     ]
    }
   ],
   "source": [
    "import pyupbit\n",
    "import time\n",
    "import datetime\n",
    "\n",
    "# 가상화폐(티커)의 일봉상 목표가 설정 함수 선언 \n",
    "\n",
    "def cal_target(ticker):\n",
    "    df = pyupbit.get_ohlcv(ticker, \"day\")\n",
    "    yesterday = df.iloc[-2]\n",
    "    today = df.iloc[-1]\n",
    "    yesterday_range = yesterday['high'] - yesterday['low']   ## 전일 가격 레인지 = 전일 고점 - 전일 저점\n",
    "    target = today['open'] + yesterday_range*0.5             ## 목표가 = 금일 시초가 + 전일 가격 레인지의 0.5\n",
    "    return target\n",
    "\n",
    "\n",
    "\n",
    "# 객체 생성\n",
    "f = open(\"upbit.txt\")\n",
    "lines = f.readlines()\n",
    "access = lines[0].strip() # access key '\\n'\n",
    "secret = lines[1].strip()  # secret key '\\n'\n",
    "f.close()\n",
    "upbit = pyupbit.Upbit(access, secret) \n",
    "\n",
    "\n",
    "# 변수 설정\n",
    "target = cal_target(\"KRW-BTC\")\n",
    "op_mode = False\n",
    "hold = False\n",
    "\n",
    "\n",
    "while True:\n",
    "    price = pyupbit.get_current_price(\"KRW-BTC\")\n",
    "    now = datetime.datetime.now()\n",
    "\n",
    "    # 매도 시도 (암호화폐 잔고가 있을 시)\n",
    "    if now.hour == 8 and now.minute == 59 and 50 <= now.second <= 59:       # 개장 8:59:50 - 08:59:59 초 사이에 매도\n",
    "        if op_mode is True and hold is True:\n",
    "            btc_balance = upbit.get_balance(\"KRW-BTC\")\n",
    "            upbit.sell_market_order(\"KRW-BTC\", btc_balance)                 # 시장가로 매도\n",
    "            hold = False\n",
    "\n",
    "        op_mode = False\n",
    "        time.sleep(10)\n",
    "\n",
    "\n",
    "    # 09:00:00 목표가 갱신\n",
    "    if now.hour == 9 and now.minute == 0 and 20 <= now.second <= 30:\n",
    "        target = cal_target(\"KRW-BTC\")\n",
    "        time.sleep(10)                  # 09:00:20 ~ 31 에 목표가 갱신\n",
    "        op_mode = True\n",
    "\n",
    "\n",
    "    price = pyupbit.get_current_price(\"KRW-BTC\")\n",
    "\n",
    "    # 매초마다 조건을 확인한 후 매수 시도\n",
    "\n",
    "    if op_mode is True and hold is False and price >= target:\n",
    "\n",
    "        #매수 \n",
    "        krw_balance = upbit.get_balance(\"KRW-BTC\")\n",
    "        upbit.buy_market_order(\"KRW-BTC\", krw_balance*0.1)\n",
    "        hold = True\n",
    "\n",
    "\n",
    "\n",
    "\n",
    "\n",
    "    # 상태 출력\n",
    "    print(f\"현재시간: {now} 목표가: {target} 현재가: {price} 보유상태:{hold} 동작상태: {op_mode}\")\n",
    "    time.sleep(1)\n",
    "\n",
    "\n",
    "\n",
    "\n",
    "\n"
   ]
  },
  {
   "cell_type": "code",
   "execution_count": null,
   "metadata": {},
   "outputs": [],
   "source": []
  }
 ],
 "metadata": {
  "kernelspec": {
   "display_name": "base",
   "language": "python",
   "name": "python3"
  },
  "language_info": {
   "codemirror_mode": {
    "name": "ipython",
    "version": 3
   },
   "file_extension": ".py",
   "mimetype": "text/x-python",
   "name": "python",
   "nbconvert_exporter": "python",
   "pygments_lexer": "ipython3",
   "version": "3.11.7"
  }
 },
 "nbformat": 4,
 "nbformat_minor": 2
}
